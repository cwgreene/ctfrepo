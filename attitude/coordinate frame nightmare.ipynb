{
 "cells": [
  {
   "cell_type": "code",
   "execution_count": 1,
   "metadata": {},
   "outputs": [],
   "source": [
    "import numpy as np\n",
    "from matplotlib import pyplot as plt"
   ]
  },
  {
   "cell_type": "code",
   "execution_count": 10,
   "metadata": {},
   "outputs": [],
   "source": [
    "ifile = open(\"attitude-mike70507kilo/test.txt\", \"r\")\n",
    "lines = ifile.readlines()\n",
    "ifile.close()"
   ]
  },
  {
   "cell_type": "code",
   "execution_count": 13,
   "metadata": {},
   "outputs": [
    {
     "name": "stdout",
     "output_type": "stream",
     "text": [
      "Problem with line \n",
      "\n"
     ]
    }
   ],
   "source": [
    "catalog = []\n",
    "for line in lines:\n",
    "    try:\n",
    "        vals = [float(x.strip()) for x in line.strip().split(\",\")]\n",
    "        catalog.append(vals)\n",
    "    except:\n",
    "        print(\"Problem with line \" + line)"
   ]
  },
  {
   "cell_type": "code",
   "execution_count": 14,
   "metadata": {},
   "outputs": [
    {
     "data": {
      "text/plain": [
       "(2500,\n",
       " [0.4246963852085621,\n",
       "  -0.1078184418823168,\n",
       "  0.898892743313044,\n",
       "  549.8530678073147])"
      ]
     },
     "execution_count": 14,
     "metadata": {},
     "output_type": "execute_result"
    }
   ],
   "source": [
    "len(catalog), catalog[0]"
   ]
  },
  {
   "cell_type": "code",
   "execution_count": 15,
   "metadata": {},
   "outputs": [],
   "source": [
    "def read_samples(lines):\n",
    "    result = []\n",
    "    for line in lines:\n",
    "        try:\n",
    "            [first,rest] = line.strip().split(\":\")\n",
    "            idx = int(first.strip())\n",
    "            vals = [float(x.strip()) for x in rest.strip().split(\",\")]\n",
    "            result.append((idx, vals))\n",
    "        except:\n",
    "            print(\"Problem with line \" + line)\n",
    "    return result"
   ]
  },
  {
   "cell_type": "code",
   "execution_count": 16,
   "metadata": {},
   "outputs": [
    {
     "name": "stdout",
     "output_type": "stream",
     "text": [
      "Problem with line Ticket please:\n",
      "\n",
      "Problem with line   ID : X,\t\tY,\t\tZ\n",
      "\n",
      "Problem with line --------------------------------------------------\n",
      "\n",
      "Problem with line \n",
      "\n"
     ]
    }
   ],
   "source": [
    "samps = read_samples(open(\"sample.txt\").readlines())"
   ]
  },
  {
   "cell_type": "code",
   "execution_count": 17,
   "metadata": {},
   "outputs": [
    {
     "data": {
      "text/plain": [
       "array([[ 1.78608e-01,  9.83582e-01,  2.58180e-02],\n",
       "       [-2.34670e-02,  9.98632e-01, -4.67270e-02],\n",
       "       [ 1.64927e-01,  9.83500e-01, -7.43480e-02],\n",
       "       [ 1.13964e-01,  9.86920e-01,  1.14018e-01],\n",
       "       [ 4.30150e-02,  9.94060e-01, -9.99740e-02],\n",
       "       [ 7.82020e-02,  9.90142e-01,  1.16203e-01],\n",
       "       [-7.15160e-02,  9.96189e-01,  4.99290e-02],\n",
       "       [ 1.43011e-01,  9.79738e-01,  1.40222e-01],\n",
       "       [ 1.46123e-01,  9.85222e-01, -8.93640e-02],\n",
       "       [-1.78620e-02,  9.96373e-01,  8.32020e-02],\n",
       "       [-1.44940e-02,  9.95435e-01, -9.43340e-02],\n",
       "       [-8.20000e-05,  9.94907e-01, -1.00793e-01],\n",
       "       [-1.37770e-02,  9.91742e-01, -1.27505e-01],\n",
       "       [-3.11010e-02,  9.89939e-01, -1.38037e-01],\n",
       "       [ 1.12983e-01,  9.89126e-01, -9.41580e-02],\n",
       "       [-3.69290e-02,  9.94859e-01,  9.42980e-02],\n",
       "       [ 1.26992e-01,  9.82975e-01,  1.32787e-01],\n",
       "       [-2.16440e-02,  9.99478e-01,  2.40000e-02]])"
      ]
     },
     "execution_count": 17,
     "metadata": {},
     "output_type": "execute_result"
    }
   ],
   "source": [
    "samp_map = np.array([s[1][:3] for s in samps])\n",
    "samp_map"
   ]
  },
  {
   "cell_type": "code",
   "execution_count": 18,
   "metadata": {},
   "outputs": [
    {
     "data": {
      "text/plain": [
       "array([[ 9.68503784e-01,  8.38823843e-02,  2.34444379e-01],\n",
       "       [ 9.98878702e-01,  4.18924891e-02,  2.20535321e-02],\n",
       "       [ 9.79219626e-01, -1.32496306e-02,  2.02369393e-01],\n",
       "       [ 9.65723648e-01,  1.82732852e-01,  1.84354386e-01],\n",
       "       [ 9.96577932e-01, -2.08811179e-02,  7.99775201e-02],\n",
       "       [ 9.69770094e-01,  1.92407945e-01,  1.50083802e-01],\n",
       "       [ 9.89589935e-01,  1.43687909e-01, -8.09604452e-03],\n",
       "       [ 9.55756044e-01,  2.05837176e-01,  2.10146239e-01],\n",
       "       [ 9.82404915e-01, -2.00047168e-02,  1.85688974e-01],\n",
       "       [ 9.84683768e-01,  1.69480494e-01,  4.09174653e-02],\n",
       "       [ 9.99762114e-01,  7.23128804e-05,  2.18107861e-02],\n",
       "       [ 9.99339769e-01, -1.61437145e-02,  3.25485256e-02],\n",
       "       [ 9.99148580e-01, -3.50174000e-02,  2.18150393e-02],\n",
       "       [ 9.99130971e-01, -4.15994028e-02,  2.60606982e-03],\n",
       "       [ 9.87772158e-01, -1.90551901e-02,  1.54735465e-01],\n",
       "       [ 9.82326707e-01,  1.85143523e-01,  2.74975863e-02],\n",
       "       [ 9.59940943e-01,  2.04206022e-01,  1.91867890e-01],\n",
       "       [ 9.93299836e-01,  1.11153170e-01,  3.16292440e-02]])"
      ]
     },
     "execution_count": 18,
     "metadata": {},
     "output_type": "execute_result"
    }
   ],
   "source": [
    "match_map = np.array([catalog[s[0]][:3] for s in samps])\n",
    "match_map"
   ]
  },
  {
   "cell_type": "code",
   "execution_count": 21,
   "metadata": {},
   "outputs": [
    {
     "data": {
      "text/plain": [
       "array([[-0.03853851,  0.99463625, -0.0931032 ],\n",
       "       [-0.1408438 ,  0.08804741,  0.98674686],\n",
       "       [ 0.97976675,  0.05414869,  0.12747946]])"
      ]
     },
     "execution_count": 21,
     "metadata": {},
     "output_type": "execute_result"
    }
   ],
   "source": [
    "rot_mat = np.dot(np.linalg.pinv(match_map), samp_map)\n",
    "rot_mat"
   ]
  },
  {
   "cell_type": "code",
   "execution_count": 23,
   "metadata": {},
   "outputs": [
    {
     "data": {
      "text/plain": [
       "array([[-1.95379973e-03,  1.92542328e-04,  3.33127508e-03],\n",
       "       [-6.78721880e-04,  2.28336282e-04,  2.12314481e-03],\n",
       "       [ 2.52373554e-03, -2.58781695e-04,  4.09656729e-03],\n",
       "       [-3.70595753e-03,  3.04545321e-04,  1.17491646e-04],\n",
       "       [ 1.21339182e-04,  3.35310488e-04,  3.21947701e-03],\n",
       "       [-4.37215766e-03,  5.05644430e-04, -2.49884373e-03],\n",
       "       [-5.20889097e-03, -3.05982387e-04,  1.31147167e-03],\n",
       "       [ 2.94100634e-03, -3.94184900e-04, -6.92574635e-04],\n",
       "       [-7.65999859e-04, -2.06994413e-04, -1.83090115e-03],\n",
       "       [ 3.86695090e-03, -1.67119215e-04,  2.42872362e-03],\n",
       "       [ 2.67604564e-03, -1.52034597e-04, -4.10473379e-03],\n",
       "       [ 4.26736206e-03,  5.86389614e-04,  4.02921755e-03],\n",
       "       [-1.57693453e-03, -1.45463800e-04, -2.70873371e-03],\n",
       "       [-1.00833779e-03, -3.11280326e-04, -4.29885352e-03],\n",
       "       [-3.23820080e-03, -4.89602167e-05, -3.11619970e-03],\n",
       "       [ 6.35051240e-05,  1.08793349e-05, -4.39412736e-04],\n",
       "       [ 4.76206699e-03, -1.86269398e-04, -3.79829717e-03],\n",
       "       [ 1.30225003e-03,  6.54266069e-06,  2.76726816e-03]])"
      ]
     },
     "execution_count": 23,
     "metadata": {},
     "output_type": "execute_result"
    }
   ],
   "source": [
    "samp_map - np.dot(match_map, rot_mat)"
   ]
  },
  {
   "cell_type": "code",
   "execution_count": 24,
   "metadata": {},
   "outputs": [],
   "source": [
    "from quaternions import Quaternion"
   ]
  },
  {
   "cell_type": "code",
   "execution_count": 37,
   "metadata": {},
   "outputs": [
    {
     "data": {
      "text/plain": [
       "<quaternions.quaternion.Quaternion at 0x7fd377541978>"
      ]
     },
     "execution_count": 37,
     "metadata": {},
     "output_type": "execute_result"
    }
   ],
   "source": [
    "q = Quaternion.from_matrix(rot_mat)\n",
    "q"
   ]
  },
  {
   "cell_type": "code",
   "execution_count": 38,
   "metadata": {},
   "outputs": [
    {
     "data": {
      "text/plain": [
       "[0.542445472221535,\n",
       " -0.42981194335017586,\n",
       " -0.49445981397525673,\n",
       " -0.5233152946856817]"
      ]
     },
     "execution_count": 38,
     "metadata": {},
     "output_type": "execute_result"
    }
   ],
   "source": [
    "q_comps = [q.w, q.x, q.y, q.z]\n",
    "q_comps"
   ]
  },
  {
   "cell_type": "code",
   "execution_count": 39,
   "metadata": {},
   "outputs": [
    {
     "data": {
      "text/plain": [
       "'0.542445472221535, -0.42981194335017586, -0.49445981397525673, -0.5233152946856817'"
      ]
     },
     "execution_count": 39,
     "metadata": {},
     "output_type": "execute_result"
    }
   ],
   "source": [
    "\", \".join([str(x) for x in q_comps])"
   ]
  },
  {
   "cell_type": "code",
   "execution_count": 40,
   "metadata": {},
   "outputs": [
    {
     "data": {
      "text/plain": [
       "array([[ 0.9994547 ,  0.00113377,  0.00423076],\n",
       "       [ 0.00113377,  1.0012587 , -0.00743646],\n",
       "       [ 0.00423076, -0.00743646,  0.97912598]])"
      ]
     },
     "execution_count": 40,
     "metadata": {},
     "output_type": "execute_result"
    }
   ],
   "source": [
    "np.dot(rot_mat, rot_mat.T)"
   ]
  },
  {
   "cell_type": "code",
   "execution_count": 41,
   "metadata": {},
   "outputs": [
    {
     "data": {
      "text/plain": [
       "(array([[-0.03890467,  0.99473722, -0.09478546],\n",
       "        [-0.14218198,  0.08838134,  0.98588692],\n",
       "        [ 0.98907569,  0.05183239,  0.13799526]]),\n",
       " array([[ 0.99058825,  0.0023424 , -0.01058864],\n",
       "        [ 0.        ,  0.99999011,  0.00120436],\n",
       "        [ 0.        ,  0.        ,  0.99923722]]))"
      ]
     },
     "execution_count": 41,
     "metadata": {},
     "output_type": "execute_result"
    }
   ],
   "source": [
    "new_rot,upper = np.linalg.qr(rot_mat)\n",
    "new_rot, upper"
   ]
  },
  {
   "cell_type": "code",
   "execution_count": 42,
   "metadata": {},
   "outputs": [
    {
     "data": {
      "text/plain": [
       "array([[-3.66934841e-03,  6.09785669e-04,  2.56732026e-03],\n",
       "       [-4.62206534e-04,  1.64572606e-04,  3.60763928e-03],\n",
       "       [ 9.80714215e-04,  1.15518811e-04,  3.60440556e-03],\n",
       "       [-4.82396002e-03,  5.73037473e-04, -3.93981331e-05],\n",
       "       [-2.86200860e-04,  4.26910069e-04,  4.03700229e-03],\n",
       "       [-5.15670893e-03,  6.91116254e-04, -2.28022371e-03],\n",
       "       [-4.57889573e-03, -4.72635424e-04,  3.18492502e-03],\n",
       "       [ 1.61017726e-03, -7.26596263e-05, -1.11758614e-03],\n",
       "       [-2.16161749e-03,  1.30603251e-04, -2.14810542e-03],\n",
       "       [ 4.07340140e-03, -2.28359483e-04,  3.80068740e-03],\n",
       "       [ 2.83918119e-03, -2.02485069e-04, -2.65216344e-03],\n",
       "       [ 4.30868610e-03,  5.66268523e-04,  5.35421665e-03],\n",
       "       [-1.46101962e-03, -1.84125247e-04, -1.28741533e-03],\n",
       "       [-7.22422240e-04, -3.92235898e-04, -2.68122725e-03],\n",
       "       [-4.34243840e-03,  2.16080765e-04, -3.09805742e-03],\n",
       "       [ 4.14977272e-04, -8.64376630e-05,  1.08317588e-03],\n",
       "       [ 3.60073939e-03,  9.30398212e-05, -4.02545982e-03],\n",
       "       [ 1.52026629e-03, -5.76051313e-05,  4.20124140e-03]])"
      ]
     },
     "execution_count": 42,
     "metadata": {},
     "output_type": "execute_result"
    }
   ],
   "source": [
    "samp_map - np.dot(match_map, new_rot)"
   ]
  },
  {
   "cell_type": "code",
   "execution_count": 43,
   "metadata": {},
   "outputs": [
    {
     "data": {
      "text/plain": [
       "0.9973348022685063"
      ]
     },
     "execution_count": 43,
     "metadata": {},
     "output_type": "execute_result"
    }
   ],
   "source": [
    "np.dot(q_comps, q_comps)"
   ]
  },
  {
   "cell_type": "code",
   "execution_count": 49,
   "metadata": {},
   "outputs": [
    {
     "data": {
      "text/plain": [
       "[0.5448559262263594,\n",
       " -0.4285786780917938,\n",
       " -0.4973154807761427,\n",
       " -0.5216604728379377]"
      ]
     },
     "execution_count": 49,
     "metadata": {},
     "output_type": "execute_result"
    }
   ],
   "source": [
    "new_q = Quaternion.from_matrix(new_rot)\n",
    "new_q_comps = [new_q.w, new_q.x, new_q.y, new_q.z]\n",
    "new_q_comps"
   ]
  },
  {
   "cell_type": "code",
   "execution_count": 46,
   "metadata": {},
   "outputs": [
    {
     "data": {
      "text/plain": [
       "1.0000000000000002"
      ]
     },
     "execution_count": 46,
     "metadata": {},
     "output_type": "execute_result"
    }
   ],
   "source": [
    "np.dot(new_q_comps, new_q_comps)"
   ]
  },
  {
   "cell_type": "code",
   "execution_count": 47,
   "metadata": {},
   "outputs": [
    {
     "data": {
      "text/plain": [
       "'0.5448559262263594, -0.4285786780917938, -0.4973154807761427, -0.5216604728379377'"
      ]
     },
     "execution_count": 47,
     "metadata": {},
     "output_type": "execute_result"
    }
   ],
   "source": [
    "\", \".join([str(x) for x in new_q_comps])"
   ]
  },
  {
   "cell_type": "code",
   "execution_count": 51,
   "metadata": {},
   "outputs": [
    {
     "data": {
      "text/plain": [
       "array([[-5.05986665e-04,  1.60263265e-04,  2.64888752e-04,\n",
       "        -7.61430660e-04, -5.31487593e-05, -1.10423119e-03,\n",
       "         5.93892199e-04,  2.89897351e-05, -4.17622101e-04,\n",
       "         7.45881937e-04,  6.04903131e-05,  1.11841543e-04,\n",
       "         4.28748995e-06,  1.07924684e-04, -6.77535529e-04,\n",
       "         2.04796642e-04, -3.34019655e-04,  5.14664038e-04],\n",
       "       [-3.10669635e-03, -3.63698697e-03, -3.42430613e-03,\n",
       "        -6.97683888e-04, -4.05845125e-03,  1.45376988e-03,\n",
       "        -3.74924022e-03,  1.33717351e-03,  1.79890310e-03,\n",
       "        -3.14770102e-03,  3.03630956e-03, -4.71608223e-03,\n",
       "         1.07778852e-03,  2.57533779e-03,  2.41782031e-03,\n",
       "        -1.00124717e-03,  4.47238546e-03, -3.92070327e-03],\n",
       "       [ 3.24337862e-03, -4.92100619e-05, -1.47337908e-03,\n",
       "         4.74699641e-03, -2.96140633e-04,  5.37921327e-03,\n",
       "         4.11386771e-03, -1.43459947e-03,  2.42766218e-03,\n",
       "        -4.54154270e-03, -2.43168382e-03, -5.02982422e-03,\n",
       "         1.63225984e-03,  1.10485744e-03,  4.71131749e-03,\n",
       "        -5.55436795e-04, -3.01073189e-03, -2.08042401e-03]])"
      ]
     },
     "execution_count": 51,
     "metadata": {},
     "output_type": "execute_result"
    }
   ],
   "source": [
    "match_map.T - np.dot(new_rot, samp_map.T)"
   ]
  },
  {
   "cell_type": "code",
   "execution_count": 52,
   "metadata": {},
   "outputs": [
    {
     "data": {
      "text/plain": [
       "0.000349032138766286"
      ]
     },
     "execution_count": 52,
     "metadata": {},
     "output_type": "execute_result"
    }
   ],
   "source": [
    "e = samp_map - np.dot(match_map, new_rot)\n",
    "np.sum(e*e)"
   ]
  },
  {
   "cell_type": "code",
   "execution_count": 78,
   "metadata": {},
   "outputs": [],
   "source": [
    "def fit_without_rows(i, s_in = samp_map, m_in = match_map):\n",
    "    s = s_in\n",
    "    m = m_in\n",
    "    if i is not None:\n",
    "        s = np.vstack([s[:i,:], s[(i+1):,:]])\n",
    "        m = np.vstack([m[:i,:], m[(i+1):,:]])\n",
    "    rot = np.dot(np.linalg.pinv(m), s)\n",
    "    (rot, _) = np.linalg.qr(rot)\n",
    "    errs = s - np.dot(m, rot)\n",
    "    sqrd_mag = np.sum(errs*errs)\n",
    "    return (rot, errs, sqrd_mag)\n",
    "        "
   ]
  },
  {
   "cell_type": "code",
   "execution_count": 79,
   "metadata": {},
   "outputs": [],
   "source": [
    "def best_to_remove(s = samp_map, m = match_map):\n",
    "    (r,errs, err) = fit_without_rows(None, s_in = s, m_in = m)\n",
    "    best = err\n",
    "    best_i = None\n",
    "    for i in range(s.shape[0]):\n",
    "        (r, errs, err) = fit_without_rows(i, s_in = s, m_in = m)\n",
    "        if err < best:\n",
    "            best = err\n",
    "            best_i = i\n",
    "    return (best, i)"
   ]
  },
  {
   "cell_type": "code",
   "execution_count": 80,
   "metadata": {},
   "outputs": [],
   "source": [
    "def trim_down_n(n):\n",
    "    s = samp_map\n",
    "    m = match_map\n",
    "    for i in range(n):\n",
    "        (best, to_remove) = best_to_remove(s,m)\n",
    "        if to_remove is None:\n",
    "            print(\"Exit loop on iter \" + str(n))\n",
    "            break\n",
    "        s = np.vstack([s[:i,:], s[(i+1):,:]])\n",
    "        m = np.vstack([m[:i,:], m[(i+1):,:]])\n",
    "    (rot, errs, sqrd_mag) = fit_without_rows(None, s_in=s, m_in=m)\n",
    "    return (rot,s,m,sqrd_mag)"
   ]
  },
  {
   "cell_type": "code",
   "execution_count": 81,
   "metadata": {},
   "outputs": [
    {
     "data": {
      "text/plain": [
       "(array([[-0.03881401,  0.99476273, -0.0945547 ],\n",
       "        [-0.13472924,  0.0885521 ,  0.98691771],\n",
       "        [ 0.99012196,  0.05104552,  0.13058657]]),\n",
       " array([[-2.34670e-02,  9.98632e-01, -4.67270e-02],\n",
       "        [ 1.13964e-01,  9.86920e-01,  1.14018e-01],\n",
       "        [ 7.82020e-02,  9.90142e-01,  1.16203e-01],\n",
       "        [ 1.43011e-01,  9.79738e-01,  1.40222e-01],\n",
       "        [-1.78620e-02,  9.96373e-01,  8.32020e-02],\n",
       "        [-1.44940e-02,  9.95435e-01, -9.43340e-02],\n",
       "        [-8.20000e-05,  9.94907e-01, -1.00793e-01],\n",
       "        [-1.37770e-02,  9.91742e-01, -1.27505e-01],\n",
       "        [-3.11010e-02,  9.89939e-01, -1.38037e-01],\n",
       "        [ 1.12983e-01,  9.89126e-01, -9.41580e-02],\n",
       "        [-3.69290e-02,  9.94859e-01,  9.42980e-02],\n",
       "        [ 1.26992e-01,  9.82975e-01,  1.32787e-01],\n",
       "        [-2.16440e-02,  9.99478e-01,  2.40000e-02]]),\n",
       " array([[ 9.98878702e-01,  4.18924891e-02,  2.20535321e-02],\n",
       "        [ 9.65723648e-01,  1.82732852e-01,  1.84354386e-01],\n",
       "        [ 9.69770094e-01,  1.92407945e-01,  1.50083802e-01],\n",
       "        [ 9.55756044e-01,  2.05837176e-01,  2.10146239e-01],\n",
       "        [ 9.84683768e-01,  1.69480494e-01,  4.09174653e-02],\n",
       "        [ 9.99762114e-01,  7.23128804e-05,  2.18107861e-02],\n",
       "        [ 9.99339769e-01, -1.61437145e-02,  3.25485256e-02],\n",
       "        [ 9.99148580e-01, -3.50174000e-02,  2.18150393e-02],\n",
       "        [ 9.99130971e-01, -4.15994028e-02,  2.60606982e-03],\n",
       "        [ 9.87772158e-01, -1.90551901e-02,  1.54735465e-01],\n",
       "        [ 9.82326707e-01,  1.85143523e-01,  2.74975863e-02],\n",
       "        [ 9.59940943e-01,  2.04206022e-01,  1.91867890e-01],\n",
       "        [ 9.93299836e-01,  1.11153170e-01,  3.16292440e-02]]),\n",
       " 0.0002577369443591564)"
      ]
     },
     "execution_count": 81,
     "metadata": {},
     "output_type": "execute_result"
    }
   ],
   "source": [
    "trim_down_n(5)"
   ]
  },
  {
   "cell_type": "code",
   "execution_count": 83,
   "metadata": {},
   "outputs": [
    {
     "data": {
      "text/plain": [
       "(array([[-0.03890467,  0.99473722, -0.09478546],\n",
       "        [-0.14218198,  0.08838134,  0.98588692],\n",
       "        [ 0.98907569,  0.05183239,  0.13799526]]),\n",
       " 0.000349032138766286,\n",
       " array([[ 1.00000000e+00,  2.75830353e-16, -1.37508127e-17],\n",
       "        [ 2.75830353e-16,  1.00000000e+00, -3.17253610e-16],\n",
       "        [-1.37508127e-17, -3.17253610e-16,  1.00000000e+00]]))"
      ]
     },
     "execution_count": 83,
     "metadata": {},
     "output_type": "execute_result"
    }
   ],
   "source": [
    "(rot, _, _, err) = trim_down_n(0)\n",
    "rot, err, np.dot(rot.T, rot)"
   ]
  },
  {
   "cell_type": "code",
   "execution_count": 70,
   "metadata": {},
   "outputs": [
    {
     "data": {
      "text/plain": [
       "(array([[-0.03853851,  0.99463625, -0.0931032 ],\n",
       "        [-0.1408438 ,  0.08804741,  0.98674686],\n",
       "        [ 0.97976675,  0.05414869,  0.12747946]]),\n",
       " array([[-1.95379973e-03,  1.92542328e-04,  3.33127508e-03],\n",
       "        [-6.78721880e-04,  2.28336282e-04,  2.12314481e-03],\n",
       "        [ 2.52373554e-03, -2.58781695e-04,  4.09656729e-03],\n",
       "        [-3.70595753e-03,  3.04545321e-04,  1.17491646e-04],\n",
       "        [ 1.21339182e-04,  3.35310488e-04,  3.21947701e-03],\n",
       "        [-4.37215766e-03,  5.05644430e-04, -2.49884373e-03],\n",
       "        [-5.20889097e-03, -3.05982387e-04,  1.31147167e-03],\n",
       "        [ 2.94100634e-03, -3.94184900e-04, -6.92574635e-04],\n",
       "        [-7.65999859e-04, -2.06994413e-04, -1.83090115e-03],\n",
       "        [ 3.86695090e-03, -1.67119215e-04,  2.42872362e-03],\n",
       "        [ 2.67604564e-03, -1.52034597e-04, -4.10473379e-03],\n",
       "        [ 4.26736206e-03,  5.86389614e-04,  4.02921755e-03],\n",
       "        [-1.57693453e-03, -1.45463800e-04, -2.70873371e-03],\n",
       "        [-1.00833779e-03, -3.11280326e-04, -4.29885352e-03],\n",
       "        [-3.23820080e-03, -4.89602167e-05, -3.11619970e-03],\n",
       "        [ 6.35051240e-05,  1.08793349e-05, -4.39412736e-04],\n",
       "        [ 4.76206699e-03, -1.86269398e-04, -3.79829717e-03],\n",
       "        [ 1.30225003e-03,  6.54266069e-06,  2.76726816e-03]]),\n",
       " 0.00031138125406300745)"
      ]
     },
     "execution_count": 70,
     "metadata": {},
     "output_type": "execute_result"
    }
   ],
   "source": [
    "fit_without_rows(None)"
   ]
  },
  {
   "cell_type": "code",
   "execution_count": null,
   "metadata": {},
   "outputs": [],
   "source": []
  }
 ],
 "metadata": {
  "kernelspec": {
   "display_name": "Python 3",
   "language": "python",
   "name": "python3"
  },
  "language_info": {
   "codemirror_mode": {
    "name": "ipython",
    "version": 3
   },
   "file_extension": ".py",
   "mimetype": "text/x-python",
   "name": "python",
   "nbconvert_exporter": "python",
   "pygments_lexer": "ipython3",
   "version": "3.6.9"
  }
 },
 "nbformat": 4,
 "nbformat_minor": 4
}
