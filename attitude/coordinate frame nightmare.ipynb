{
 "cells": [
  {
   "cell_type": "code",
   "execution_count": 145,
   "metadata": {},
   "outputs": [],
   "source": [
    "import numpy as np\n",
    "from matplotlib import pyplot as plt"
   ]
  },
  {
   "cell_type": "code",
   "execution_count": 146,
   "metadata": {},
   "outputs": [],
   "source": [
    "ifile = open(\"attitude-mike70507kilo/test.txt\", \"r\")\n",
    "lines = ifile.readlines()\n",
    "ifile.close()"
   ]
  },
  {
   "cell_type": "code",
   "execution_count": 147,
   "metadata": {},
   "outputs": [
    {
     "name": "stdout",
     "output_type": "stream",
     "text": [
      "Problem with line \n",
      "\n"
     ]
    }
   ],
   "source": [
    "catalog = []\n",
    "for line in lines:\n",
    "    try:\n",
    "        vals = [float(x.strip()) for x in line.strip().split(\",\")]\n",
    "        catalog.append(vals)\n",
    "    except:\n",
    "        print(\"Problem with line \" + line)"
   ]
  },
  {
   "cell_type": "code",
   "execution_count": 148,
   "metadata": {},
   "outputs": [
    {
     "data": {
      "text/plain": [
       "(2500,\n",
       " [0.4246963852085621,\n",
       "  -0.1078184418823168,\n",
       "  0.898892743313044,\n",
       "  549.8530678073147])"
      ]
     },
     "execution_count": 148,
     "metadata": {},
     "output_type": "execute_result"
    }
   ],
   "source": [
    "len(catalog), catalog[0]"
   ]
  },
  {
   "cell_type": "code",
   "execution_count": 149,
   "metadata": {},
   "outputs": [],
   "source": [
    "def read_samples(lines):\n",
    "    result = []\n",
    "    for line in lines:\n",
    "        try:\n",
    "            [first,rest] = line.strip().split(\":\")\n",
    "            idx = int(first.strip())\n",
    "            vals = [float(x.strip()) for x in rest.strip().split(\",\")]\n",
    "            result.append((idx, vals))\n",
    "        except:\n",
    "            print(\"Problem with line \" + line)\n",
    "    return result"
   ]
  },
  {
   "cell_type": "code",
   "execution_count": 150,
   "metadata": {},
   "outputs": [
    {
     "name": "stdout",
     "output_type": "stream",
     "text": [
      "Problem with line Ticket please:\n",
      "\n",
      "Problem with line   ID : X,\t\tY,\t\tZ\n",
      "\n",
      "Problem with line --------------------------------------------------\n",
      "\n",
      "Problem with line \n",
      "\n",
      "Problem with line Timeout, Bye\n",
      "\n"
     ]
    }
   ],
   "source": [
    "samps = read_samples(open(\"sample.txt\").readlines())"
   ]
  },
  {
   "cell_type": "code",
   "execution_count": 151,
   "metadata": {},
   "outputs": [
    {
     "data": {
      "text/plain": [
       "array([[ 1.78608e-01,  9.83582e-01,  2.58180e-02],\n",
       "       [-2.34670e-02,  9.98632e-01, -4.67270e-02],\n",
       "       [ 1.64927e-01,  9.83500e-01, -7.43480e-02],\n",
       "       [ 1.13964e-01,  9.86920e-01,  1.14018e-01],\n",
       "       [ 4.30150e-02,  9.94060e-01, -9.99740e-02],\n",
       "       [ 7.82020e-02,  9.90142e-01,  1.16203e-01],\n",
       "       [-7.15160e-02,  9.96189e-01,  4.99290e-02],\n",
       "       [ 1.43011e-01,  9.79738e-01,  1.40222e-01],\n",
       "       [ 1.46123e-01,  9.85222e-01, -8.93640e-02],\n",
       "       [-1.78620e-02,  9.96373e-01,  8.32020e-02],\n",
       "       [-1.44940e-02,  9.95435e-01, -9.43340e-02],\n",
       "       [-8.20000e-05,  9.94907e-01, -1.00793e-01],\n",
       "       [-1.37770e-02,  9.91742e-01, -1.27505e-01],\n",
       "       [-3.11010e-02,  9.89939e-01, -1.38037e-01],\n",
       "       [ 1.12983e-01,  9.89126e-01, -9.41580e-02],\n",
       "       [-3.69290e-02,  9.94859e-01,  9.42980e-02],\n",
       "       [ 1.26992e-01,  9.82975e-01,  1.32787e-01],\n",
       "       [-2.16440e-02,  9.99478e-01,  2.40000e-02]])"
      ]
     },
     "execution_count": 151,
     "metadata": {},
     "output_type": "execute_result"
    }
   ],
   "source": [
    "samp_map = np.array([s[1][:3] for s in samps])\n",
    "samp_map"
   ]
  },
  {
   "cell_type": "code",
   "execution_count": 156,
   "metadata": {},
   "outputs": [
    {
     "data": {
      "text/plain": [
       "array([[ 9.68503784e-01,  8.38823843e-02,  2.34444379e-01],\n",
       "       [ 9.98878702e-01,  4.18924891e-02,  2.20535321e-02],\n",
       "       [ 9.79219626e-01, -1.32496306e-02,  2.02369393e-01],\n",
       "       [ 9.65723648e-01,  1.82732852e-01,  1.84354386e-01],\n",
       "       [ 9.96577932e-01, -2.08811179e-02,  7.99775201e-02],\n",
       "       [ 9.69770094e-01,  1.92407945e-01,  1.50083802e-01],\n",
       "       [ 9.89589935e-01,  1.43687909e-01, -8.09604452e-03],\n",
       "       [ 9.55756044e-01,  2.05837176e-01,  2.10146239e-01],\n",
       "       [ 9.82404915e-01, -2.00047168e-02,  1.85688974e-01],\n",
       "       [ 9.84683768e-01,  1.69480494e-01,  4.09174653e-02],\n",
       "       [ 9.99762114e-01,  7.23128804e-05,  2.18107861e-02],\n",
       "       [ 9.99339769e-01, -1.61437145e-02,  3.25485256e-02],\n",
       "       [ 9.99148580e-01, -3.50174000e-02,  2.18150393e-02],\n",
       "       [ 9.99130971e-01, -4.15994028e-02,  2.60606982e-03],\n",
       "       [ 9.87772158e-01, -1.90551901e-02,  1.54735465e-01],\n",
       "       [ 9.82326707e-01,  1.85143523e-01,  2.74975863e-02],\n",
       "       [ 9.59940943e-01,  2.04206022e-01,  1.91867890e-01],\n",
       "       [ 9.93299836e-01,  1.11153170e-01,  3.16292440e-02]])"
      ]
     },
     "execution_count": 156,
     "metadata": {},
     "output_type": "execute_result"
    }
   ],
   "source": [
    "match_map = np.array([catalog[s[0]][:3] for s in samps])\n",
    "match_map"
   ]
  },
  {
   "cell_type": "code",
   "execution_count": 157,
   "metadata": {},
   "outputs": [
    {
     "data": {
      "text/plain": [
       "array([[-0.03853851,  0.99463625, -0.0931032 ],\n",
       "       [-0.1408438 ,  0.08804741,  0.98674686],\n",
       "       [ 0.97976675,  0.05414869,  0.12747946]])"
      ]
     },
     "execution_count": 157,
     "metadata": {},
     "output_type": "execute_result"
    }
   ],
   "source": [
    "rot_mat = np.dot(np.linalg.pinv(match_map), samp_map)\n",
    "rot_mat"
   ]
  },
  {
   "cell_type": "code",
   "execution_count": 158,
   "metadata": {},
   "outputs": [
    {
     "data": {
      "text/plain": [
       "(array([[-1.95379973e-03,  1.92542328e-04,  3.33127508e-03],\n",
       "        [-6.78721880e-04,  2.28336282e-04,  2.12314481e-03],\n",
       "        [ 2.52373554e-03, -2.58781695e-04,  4.09656729e-03],\n",
       "        [-3.70595753e-03,  3.04545321e-04,  1.17491646e-04],\n",
       "        [ 1.21339182e-04,  3.35310488e-04,  3.21947701e-03],\n",
       "        [-4.37215766e-03,  5.05644430e-04, -2.49884373e-03],\n",
       "        [-5.20889097e-03, -3.05982387e-04,  1.31147167e-03],\n",
       "        [ 2.94100634e-03, -3.94184900e-04, -6.92574635e-04],\n",
       "        [-7.65999859e-04, -2.06994413e-04, -1.83090115e-03],\n",
       "        [ 3.86695090e-03, -1.67119215e-04,  2.42872362e-03],\n",
       "        [ 2.67604564e-03, -1.52034597e-04, -4.10473379e-03],\n",
       "        [ 4.26736206e-03,  5.86389614e-04,  4.02921755e-03],\n",
       "        [-1.57693453e-03, -1.45463800e-04, -2.70873371e-03],\n",
       "        [-1.00833779e-03, -3.11280326e-04, -4.29885352e-03],\n",
       "        [-3.23820080e-03, -4.89602167e-05, -3.11619970e-03],\n",
       "        [ 6.35051240e-05,  1.08793349e-05, -4.39412736e-04],\n",
       "        [ 4.76206699e-03, -1.86269398e-04, -3.79829717e-03],\n",
       "        [ 1.30225003e-03,  6.54266069e-06,  2.76726816e-03]]),\n",
       " 0.00031138125406300745)"
      ]
     },
     "execution_count": 158,
     "metadata": {},
     "output_type": "execute_result"
    }
   ],
   "source": [
    "tmp_err = samp_map - np.dot(match_map, rot_mat)\n",
    "tmp_err, np.sum(tmp_err*tmp_err)"
   ]
  },
  {
   "cell_type": "code",
   "execution_count": 24,
   "metadata": {},
   "outputs": [],
   "source": [
    "from quaternions import Quaternion"
   ]
  },
  {
   "cell_type": "code",
   "execution_count": 37,
   "metadata": {},
   "outputs": [
    {
     "data": {
      "text/plain": [
       "<quaternions.quaternion.Quaternion at 0x7fd377541978>"
      ]
     },
     "execution_count": 37,
     "metadata": {},
     "output_type": "execute_result"
    }
   ],
   "source": [
    "q = Quaternion.from_matrix(rot_mat)\n",
    "q"
   ]
  },
  {
   "cell_type": "code",
   "execution_count": 38,
   "metadata": {},
   "outputs": [
    {
     "data": {
      "text/plain": [
       "[0.542445472221535,\n",
       " -0.42981194335017586,\n",
       " -0.49445981397525673,\n",
       " -0.5233152946856817]"
      ]
     },
     "execution_count": 38,
     "metadata": {},
     "output_type": "execute_result"
    }
   ],
   "source": [
    "q_comps = [q.w, q.x, q.y, q.z]\n",
    "q_comps"
   ]
  },
  {
   "cell_type": "code",
   "execution_count": 39,
   "metadata": {},
   "outputs": [
    {
     "data": {
      "text/plain": [
       "'0.542445472221535, -0.42981194335017586, -0.49445981397525673, -0.5233152946856817'"
      ]
     },
     "execution_count": 39,
     "metadata": {},
     "output_type": "execute_result"
    }
   ],
   "source": [
    "\", \".join([str(x) for x in q_comps])"
   ]
  },
  {
   "cell_type": "code",
   "execution_count": 40,
   "metadata": {},
   "outputs": [
    {
     "data": {
      "text/plain": [
       "array([[ 0.9994547 ,  0.00113377,  0.00423076],\n",
       "       [ 0.00113377,  1.0012587 , -0.00743646],\n",
       "       [ 0.00423076, -0.00743646,  0.97912598]])"
      ]
     },
     "execution_count": 40,
     "metadata": {},
     "output_type": "execute_result"
    }
   ],
   "source": [
    "np.dot(rot_mat, rot_mat.T)"
   ]
  },
  {
   "cell_type": "code",
   "execution_count": 41,
   "metadata": {},
   "outputs": [
    {
     "data": {
      "text/plain": [
       "(array([[-0.03890467,  0.99473722, -0.09478546],\n",
       "        [-0.14218198,  0.08838134,  0.98588692],\n",
       "        [ 0.98907569,  0.05183239,  0.13799526]]),\n",
       " array([[ 0.99058825,  0.0023424 , -0.01058864],\n",
       "        [ 0.        ,  0.99999011,  0.00120436],\n",
       "        [ 0.        ,  0.        ,  0.99923722]]))"
      ]
     },
     "execution_count": 41,
     "metadata": {},
     "output_type": "execute_result"
    }
   ],
   "source": [
    "new_rot,upper = np.linalg.qr(rot_mat)\n",
    "new_rot, upper"
   ]
  },
  {
   "cell_type": "code",
   "execution_count": 42,
   "metadata": {},
   "outputs": [
    {
     "data": {
      "text/plain": [
       "array([[-3.66934841e-03,  6.09785669e-04,  2.56732026e-03],\n",
       "       [-4.62206534e-04,  1.64572606e-04,  3.60763928e-03],\n",
       "       [ 9.80714215e-04,  1.15518811e-04,  3.60440556e-03],\n",
       "       [-4.82396002e-03,  5.73037473e-04, -3.93981331e-05],\n",
       "       [-2.86200860e-04,  4.26910069e-04,  4.03700229e-03],\n",
       "       [-5.15670893e-03,  6.91116254e-04, -2.28022371e-03],\n",
       "       [-4.57889573e-03, -4.72635424e-04,  3.18492502e-03],\n",
       "       [ 1.61017726e-03, -7.26596263e-05, -1.11758614e-03],\n",
       "       [-2.16161749e-03,  1.30603251e-04, -2.14810542e-03],\n",
       "       [ 4.07340140e-03, -2.28359483e-04,  3.80068740e-03],\n",
       "       [ 2.83918119e-03, -2.02485069e-04, -2.65216344e-03],\n",
       "       [ 4.30868610e-03,  5.66268523e-04,  5.35421665e-03],\n",
       "       [-1.46101962e-03, -1.84125247e-04, -1.28741533e-03],\n",
       "       [-7.22422240e-04, -3.92235898e-04, -2.68122725e-03],\n",
       "       [-4.34243840e-03,  2.16080765e-04, -3.09805742e-03],\n",
       "       [ 4.14977272e-04, -8.64376630e-05,  1.08317588e-03],\n",
       "       [ 3.60073939e-03,  9.30398212e-05, -4.02545982e-03],\n",
       "       [ 1.52026629e-03, -5.76051313e-05,  4.20124140e-03]])"
      ]
     },
     "execution_count": 42,
     "metadata": {},
     "output_type": "execute_result"
    }
   ],
   "source": [
    "samp_map - np.dot(match_map, new_rot)"
   ]
  },
  {
   "cell_type": "code",
   "execution_count": 166,
   "metadata": {},
   "outputs": [
    {
     "data": {
      "text/plain": [
       "0.9973348022685063"
      ]
     },
     "execution_count": 166,
     "metadata": {},
     "output_type": "execute_result"
    }
   ],
   "source": [
    "np.dot(q_comps, q_comps)"
   ]
  },
  {
   "cell_type": "code",
   "execution_count": 167,
   "metadata": {},
   "outputs": [
    {
     "data": {
      "text/plain": [
       "[0.5448559262263594,\n",
       " -0.4285786780917938,\n",
       " -0.4973154807761427,\n",
       " -0.5216604728379377]"
      ]
     },
     "execution_count": 167,
     "metadata": {},
     "output_type": "execute_result"
    }
   ],
   "source": [
    "new_q = Quaternion.from_matrix(new_rot)\n",
    "new_q_comps = [new_q.w, new_q.x, new_q.y, new_q.z]\n",
    "new_q_comps"
   ]
  },
  {
   "cell_type": "code",
   "execution_count": 46,
   "metadata": {},
   "outputs": [
    {
     "data": {
      "text/plain": [
       "1.0000000000000002"
      ]
     },
     "execution_count": 46,
     "metadata": {},
     "output_type": "execute_result"
    }
   ],
   "source": [
    "np.dot(new_q_comps, new_q_comps)"
   ]
  },
  {
   "cell_type": "code",
   "execution_count": 47,
   "metadata": {},
   "outputs": [
    {
     "data": {
      "text/plain": [
       "'0.5448559262263594, -0.4285786780917938, -0.4973154807761427, -0.5216604728379377'"
      ]
     },
     "execution_count": 47,
     "metadata": {},
     "output_type": "execute_result"
    }
   ],
   "source": [
    "\", \".join([str(x) for x in new_q_comps])"
   ]
  },
  {
   "cell_type": "code",
   "execution_count": 51,
   "metadata": {},
   "outputs": [
    {
     "data": {
      "text/plain": [
       "array([[-5.05986665e-04,  1.60263265e-04,  2.64888752e-04,\n",
       "        -7.61430660e-04, -5.31487593e-05, -1.10423119e-03,\n",
       "         5.93892199e-04,  2.89897351e-05, -4.17622101e-04,\n",
       "         7.45881937e-04,  6.04903131e-05,  1.11841543e-04,\n",
       "         4.28748995e-06,  1.07924684e-04, -6.77535529e-04,\n",
       "         2.04796642e-04, -3.34019655e-04,  5.14664038e-04],\n",
       "       [-3.10669635e-03, -3.63698697e-03, -3.42430613e-03,\n",
       "        -6.97683888e-04, -4.05845125e-03,  1.45376988e-03,\n",
       "        -3.74924022e-03,  1.33717351e-03,  1.79890310e-03,\n",
       "        -3.14770102e-03,  3.03630956e-03, -4.71608223e-03,\n",
       "         1.07778852e-03,  2.57533779e-03,  2.41782031e-03,\n",
       "        -1.00124717e-03,  4.47238546e-03, -3.92070327e-03],\n",
       "       [ 3.24337862e-03, -4.92100619e-05, -1.47337908e-03,\n",
       "         4.74699641e-03, -2.96140633e-04,  5.37921327e-03,\n",
       "         4.11386771e-03, -1.43459947e-03,  2.42766218e-03,\n",
       "        -4.54154270e-03, -2.43168382e-03, -5.02982422e-03,\n",
       "         1.63225984e-03,  1.10485744e-03,  4.71131749e-03,\n",
       "        -5.55436795e-04, -3.01073189e-03, -2.08042401e-03]])"
      ]
     },
     "execution_count": 51,
     "metadata": {},
     "output_type": "execute_result"
    }
   ],
   "source": [
    "match_map.T - np.dot(new_rot, samp_map.T)"
   ]
  },
  {
   "cell_type": "code",
   "execution_count": 52,
   "metadata": {},
   "outputs": [
    {
     "data": {
      "text/plain": [
       "0.000349032138766286"
      ]
     },
     "execution_count": 52,
     "metadata": {},
     "output_type": "execute_result"
    }
   ],
   "source": [
    "e = samp_map - np.dot(match_map, new_rot)\n",
    "np.sum(e*e)"
   ]
  },
  {
   "cell_type": "code",
   "execution_count": 101,
   "metadata": {},
   "outputs": [],
   "source": [
    "def fit_without_rows(i, s_in = samp_map, m_in = match_map):\n",
    "    s = s_in.copy()\n",
    "    m = m_in.copy()\n",
    "    if i is not None:\n",
    "        s = np.vstack([s[:i,:], s[(i+1):,:]])\n",
    "        m = np.vstack([m[:i,:], m[(i+1):,:]])\n",
    "    rot = np.dot(np.linalg.pinv(m), s)\n",
    "    (rot, _) = np.linalg.qr(rot)\n",
    "    errs = s - np.dot(m, rot)\n",
    "    sqrd_mag = np.sum(errs*errs)\n",
    "    return (rot, errs, sqrd_mag)\n",
    "        "
   ]
  },
  {
   "cell_type": "code",
   "execution_count": 129,
   "metadata": {},
   "outputs": [],
   "source": [
    "def best_to_remove(s = samp_map, m = match_map):\n",
    "    (r,errs, err) = fit_without_rows(None, s_in = s, m_in = m)\n",
    "    best = err\n",
    "    best_i = None\n",
    "    for i in range(s.shape[0]):\n",
    "        (r, errs, err) = fit_without_rows(i, s_in = s, m_in = m)\n",
    "        if err < best:\n",
    "            best = err\n",
    "            best_i = i\n",
    "    return (best, int(best_i))"
   ]
  },
  {
   "cell_type": "code",
   "execution_count": 132,
   "metadata": {},
   "outputs": [],
   "source": [
    "def trim_down_n(n):\n",
    "    s = samp_map.copy()\n",
    "    m = match_map.copy()\n",
    "    for i in range(n):\n",
    "        (best, to_remove) = best_to_remove(s=s,m=m)\n",
    "        print(\"(best, to_remove) is \" + str((best, to_remove)) +\", matrix dims are \" + str(s.shape) + str(m.shape))\n",
    "        if to_remove is None:\n",
    "            print(\"Exit loop on iter \" + str(n))\n",
    "            break\n",
    "        s = np.vstack([s[:to_remove,:], s[int(to_remove+1):,:]])\n",
    "        m = np.vstack([m[:to_remove,:], m[int(to_remove+1):,:]])\n",
    "        print(\"after removing row \" + str(to_remove) + \" matrix dims are \" + str(s.shape) + str(m.shape))\n",
    "    (rot, errs, sqrd_mag) = fit_without_rows(None, s_in=s, m_in=m)\n",
    "    return (rot,s,m,sqrd_mag)"
   ]
  },
  {
   "cell_type": "code",
   "execution_count": 133,
   "metadata": {},
   "outputs": [
    {
     "name": "stdout",
     "output_type": "stream",
     "text": [
      "(best, to_remove) is (0.00030049942640474476, 11), matrix dims are (18, 3)(18, 3)\n",
      "after removing row 11 matrix dims are (17, 3)(17, 3)\n",
      "(best, to_remove) is (0.0002594271725429861, 9), matrix dims are (17, 3)(17, 3)\n",
      "after removing row 9 matrix dims are (16, 3)(16, 3)\n",
      "(best, to_remove) is (0.00022635295845244976, 14), matrix dims are (16, 3)(16, 3)\n",
      "after removing row 14 matrix dims are (15, 3)(15, 3)\n",
      "(best, to_remove) is (0.00019005199644083653, 14), matrix dims are (15, 3)(15, 3)\n",
      "after removing row 14 matrix dims are (14, 3)(14, 3)\n",
      "(best, to_remove) is (0.00016706368495004212, 9), matrix dims are (14, 3)(14, 3)\n",
      "after removing row 9 matrix dims are (13, 3)(13, 3)\n"
     ]
    },
    {
     "data": {
      "text/plain": [
       "(array([[-0.04032363,  0.99459961, -0.09563271],\n",
       "        [-0.14691554,  0.08876853,  0.98515784],\n",
       "        [ 0.98832678,  0.05377507,  0.14254267]]),\n",
       " array([[ 0.178608,  0.983582,  0.025818],\n",
       "        [-0.023467,  0.998632, -0.046727],\n",
       "        [ 0.164927,  0.9835  , -0.074348],\n",
       "        [ 0.113964,  0.98692 ,  0.114018],\n",
       "        [ 0.043015,  0.99406 , -0.099974],\n",
       "        [ 0.078202,  0.990142,  0.116203],\n",
       "        [-0.071516,  0.996189,  0.049929],\n",
       "        [ 0.143011,  0.979738,  0.140222],\n",
       "        [ 0.146123,  0.985222, -0.089364],\n",
       "        [-0.013777,  0.991742, -0.127505],\n",
       "        [-0.031101,  0.989939, -0.138037],\n",
       "        [ 0.112983,  0.989126, -0.094158],\n",
       "        [-0.036929,  0.994859,  0.094298]]),\n",
       " array([[ 0.96850378,  0.08388238,  0.23444438],\n",
       "        [ 0.9988787 ,  0.04189249,  0.02205353],\n",
       "        [ 0.97921963, -0.01324963,  0.20236939],\n",
       "        [ 0.96572365,  0.18273285,  0.18435439],\n",
       "        [ 0.99657793, -0.02088112,  0.07997752],\n",
       "        [ 0.96977009,  0.19240795,  0.1500838 ],\n",
       "        [ 0.98958993,  0.14368791, -0.00809604],\n",
       "        [ 0.95575604,  0.20583718,  0.21014624],\n",
       "        [ 0.98240491, -0.02000472,  0.18568897],\n",
       "        [ 0.99914858, -0.0350174 ,  0.02181504],\n",
       "        [ 0.99913097, -0.0415994 ,  0.00260607],\n",
       "        [ 0.98777216, -0.01905519,  0.15473547],\n",
       "        [ 0.98232671,  0.18514352,  0.02749759]]),\n",
       " 0.00016706368495004212)"
      ]
     },
     "execution_count": 133,
     "metadata": {},
     "output_type": "execute_result"
    }
   ],
   "source": [
    "trim_down_n(5)"
   ]
  },
  {
   "cell_type": "code",
   "execution_count": 123,
   "metadata": {},
   "outputs": [
    {
     "data": {
      "text/plain": [
       "(array([[-0.03890467,  0.99473722, -0.09478546],\n",
       "        [-0.14218198,  0.08838134,  0.98588692],\n",
       "        [ 0.98907569,  0.05183239,  0.13799526]]),\n",
       " 0.000349032138766286,\n",
       " array([[ 1.00000000e+00,  2.75830353e-16, -1.37508127e-17],\n",
       "        [ 2.75830353e-16,  1.00000000e+00, -3.17253610e-16],\n",
       "        [-1.37508127e-17, -3.17253610e-16,  1.00000000e+00]]))"
      ]
     },
     "execution_count": 123,
     "metadata": {},
     "output_type": "execute_result"
    }
   ],
   "source": [
    "(rot, _, _, err) = trim_down_n(0)\n",
    "rot, err, np.dot(rot.T, rot)"
   ]
  },
  {
   "cell_type": "code",
   "execution_count": 124,
   "metadata": {},
   "outputs": [
    {
     "data": {
      "text/plain": [
       "(array([[-0.03890467,  0.99473722, -0.09478546],\n",
       "        [-0.14218198,  0.08838134,  0.98588692],\n",
       "        [ 0.98907569,  0.05183239,  0.13799526]]),\n",
       " array([[-3.66934841e-03,  6.09785669e-04,  2.56732026e-03],\n",
       "        [-4.62206534e-04,  1.64572606e-04,  3.60763928e-03],\n",
       "        [ 9.80714215e-04,  1.15518811e-04,  3.60440556e-03],\n",
       "        [-4.82396002e-03,  5.73037473e-04, -3.93981331e-05],\n",
       "        [-2.86200860e-04,  4.26910069e-04,  4.03700229e-03],\n",
       "        [-5.15670893e-03,  6.91116254e-04, -2.28022371e-03],\n",
       "        [-4.57889573e-03, -4.72635424e-04,  3.18492502e-03],\n",
       "        [ 1.61017726e-03, -7.26596263e-05, -1.11758614e-03],\n",
       "        [-2.16161749e-03,  1.30603251e-04, -2.14810542e-03],\n",
       "        [ 4.07340140e-03, -2.28359483e-04,  3.80068740e-03],\n",
       "        [ 2.83918119e-03, -2.02485069e-04, -2.65216344e-03],\n",
       "        [ 4.30868610e-03,  5.66268523e-04,  5.35421665e-03],\n",
       "        [-1.46101962e-03, -1.84125247e-04, -1.28741533e-03],\n",
       "        [-7.22422240e-04, -3.92235898e-04, -2.68122725e-03],\n",
       "        [-4.34243840e-03,  2.16080765e-04, -3.09805742e-03],\n",
       "        [ 4.14977272e-04, -8.64376630e-05,  1.08317588e-03],\n",
       "        [ 3.60073939e-03,  9.30398212e-05, -4.02545982e-03],\n",
       "        [ 1.52026629e-03, -5.76051313e-05,  4.20124140e-03]]),\n",
       " 0.000349032138766286)"
      ]
     },
     "execution_count": 124,
     "metadata": {},
     "output_type": "execute_result"
    }
   ],
   "source": [
    "fit_without_rows(None)"
   ]
  },
  {
   "cell_type": "code",
   "execution_count": 125,
   "metadata": {},
   "outputs": [
    {
     "data": {
      "text/plain": [
       "18"
      ]
     },
     "execution_count": 125,
     "metadata": {},
     "output_type": "execute_result"
    }
   ],
   "source": [
    "len(samp_map)"
   ]
  },
  {
   "cell_type": "code",
   "execution_count": 134,
   "metadata": {},
   "outputs": [
    {
     "name": "stdout",
     "output_type": "stream",
     "text": [
      "(best, to_remove) is (0.00030049942640474476, 11), matrix dims are (18, 3)(18, 3)\n",
      "after removing row 11 matrix dims are (17, 3)(17, 3)\n",
      "(best, to_remove) is (0.0002594271725429861, 9), matrix dims are (17, 3)(17, 3)\n",
      "after removing row 9 matrix dims are (16, 3)(16, 3)\n",
      "(best, to_remove) is (0.00022635295845244976, 14), matrix dims are (16, 3)(16, 3)\n",
      "after removing row 14 matrix dims are (15, 3)(15, 3)\n",
      "(best, to_remove) is (0.00019005199644083653, 14), matrix dims are (15, 3)(15, 3)\n",
      "after removing row 14 matrix dims are (14, 3)(14, 3)\n",
      "(best, to_remove) is (0.00016706368495004212, 9), matrix dims are (14, 3)(14, 3)\n",
      "after removing row 9 matrix dims are (13, 3)(13, 3)\n",
      "(best, to_remove) is (0.00014282018631942868, 2), matrix dims are (13, 3)(13, 3)\n",
      "after removing row 2 matrix dims are (12, 3)(12, 3)\n",
      "(best, to_remove) is (0.00012068161937321926, 4), matrix dims are (12, 3)(12, 3)\n",
      "after removing row 4 matrix dims are (11, 3)(11, 3)\n",
      "(best, to_remove) is (0.000101878946040047, 3), matrix dims are (11, 3)(11, 3)\n",
      "after removing row 3 matrix dims are (10, 3)(10, 3)\n",
      "(best, to_remove) is (8.395854842136159e-05, 1), matrix dims are (10, 3)(10, 3)\n",
      "after removing row 1 matrix dims are (9, 3)(9, 3)\n",
      "(best, to_remove) is (6.797535122559658e-05, 0), matrix dims are (9, 3)(9, 3)\n",
      "after removing row 0 matrix dims are (8, 3)(8, 3)\n",
      "(best, to_remove) is (4.9736188200177454e-05, 1), matrix dims are (8, 3)(8, 3)\n",
      "after removing row 1 matrix dims are (7, 3)(7, 3)\n",
      "(best, to_remove) is (2.7659345166853718e-05, 0), matrix dims are (7, 3)(7, 3)\n",
      "after removing row 0 matrix dims are (6, 3)(6, 3)\n",
      "(best, to_remove) is (1.3286639235006214e-05, 4), matrix dims are (6, 3)(6, 3)\n",
      "after removing row 4 matrix dims are (5, 3)(5, 3)\n",
      "(best, to_remove) is (4.296657529301094e-06, 3), matrix dims are (5, 3)(5, 3)\n",
      "after removing row 3 matrix dims are (4, 3)(4, 3)\n",
      "(best, to_remove) is (8.828059593039942e-07, 2), matrix dims are (4, 3)(4, 3)\n",
      "after removing row 2 matrix dims are (3, 3)(3, 3)\n"
     ]
    },
    {
     "data": {
      "text/plain": [
       "(array([[-0.04150825,  0.99477708, -0.09325031],\n",
       "        [-0.12598291,  0.08737484,  0.98817708],\n",
       "        [ 0.99116365,  0.05276544,  0.12169814]]),\n",
       " array([[ 0.143011,  0.979738,  0.140222],\n",
       "        [ 0.146123,  0.985222, -0.089364],\n",
       "        [-0.036929,  0.994859,  0.094298]]),\n",
       " array([[ 0.95575604,  0.20583718,  0.21014624],\n",
       "        [ 0.98240491, -0.02000472,  0.18568897],\n",
       "        [ 0.98232671,  0.18514352,  0.02749759]]),\n",
       " 8.828059593039942e-07)"
      ]
     },
     "execution_count": 134,
     "metadata": {},
     "output_type": "execute_result"
    }
   ],
   "source": [
    "trim_down_n(15)"
   ]
  },
  {
   "cell_type": "code",
   "execution_count": 113,
   "metadata": {},
   "outputs": [
    {
     "name": "stdout",
     "output_type": "stream",
     "text": [
      "(best, to_remove) is (0.00030049942640474476, 11), matrix dims are (18, 3)(18, 3)\n",
      "(best, to_remove) is (0.0002773796480733462, 10), matrix dims are (17, 3)(17, 3)\n",
      "(best, to_remove) is (0.0002492096963709992, 9), matrix dims are (16, 3)(16, 3)\n",
      "(best, to_remove) is (0.0002298234034896119, 8), matrix dims are (15, 3)(15, 3)\n",
      "(best, to_remove) is (0.00020872279248238952, 7), matrix dims are (14, 3)(14, 3)\n",
      "(best, to_remove) is (0.0002075762471373217, 6), matrix dims are (13, 3)(13, 3)\n",
      "(best, to_remove) is (0.00018373475809039318, 5), matrix dims are (12, 3)(12, 3)\n",
      "(best, to_remove) is (0.00017952601558046753, 2), matrix dims are (11, 3)(11, 3)\n",
      "(best, to_remove) is (0.00015106479264604395, 2), matrix dims are (10, 3)(10, 3)\n",
      "(best, to_remove) is (0.00012352553515795547, 2), matrix dims are (9, 3)(9, 3)\n",
      "(best, to_remove) is (0.00012352553515795547, 2), matrix dims are (9, 3)(9, 3)\n",
      "(best, to_remove) is (0.00012352553515795547, 2), matrix dims are (9, 3)(9, 3)\n",
      "(best, to_remove) is (0.00012352553515795547, 2), matrix dims are (9, 3)(9, 3)\n",
      "(best, to_remove) is (0.00012352553515795547, 2), matrix dims are (9, 3)(9, 3)\n",
      "(best, to_remove) is (0.00012352553515795547, 2), matrix dims are (9, 3)(9, 3)\n"
     ]
    }
   ],
   "source": [
    "(r_t, s_t, m_t, stuff1) = trim_down_n(15)"
   ]
  },
  {
   "cell_type": "code",
   "execution_count": 114,
   "metadata": {},
   "outputs": [
    {
     "data": {
      "text/plain": [
       "(array([[-2.34670e-02,  9.98632e-01, -4.67270e-02],\n",
       "        [ 1.13964e-01,  9.86920e-01,  1.14018e-01],\n",
       "        [ 7.82020e-02,  9.90142e-01,  1.16203e-01],\n",
       "        [ 1.43011e-01,  9.79738e-01,  1.40222e-01],\n",
       "        [-1.78620e-02,  9.96373e-01,  8.32020e-02],\n",
       "        [-8.20000e-05,  9.94907e-01, -1.00793e-01],\n",
       "        [-3.11010e-02,  9.89939e-01, -1.38037e-01],\n",
       "        [-3.69290e-02,  9.94859e-01,  9.42980e-02],\n",
       "        [-2.16440e-02,  9.99478e-01,  2.40000e-02]]),\n",
       " array([[-2.34670e-02,  9.98632e-01, -4.67270e-02],\n",
       "        [ 1.13964e-01,  9.86920e-01,  1.14018e-01],\n",
       "        [ 1.43011e-01,  9.79738e-01,  1.40222e-01],\n",
       "        [-1.78620e-02,  9.96373e-01,  8.32020e-02],\n",
       "        [-8.20000e-05,  9.94907e-01, -1.00793e-01],\n",
       "        [-3.11010e-02,  9.89939e-01, -1.38037e-01],\n",
       "        [-3.69290e-02,  9.94859e-01,  9.42980e-02],\n",
       "        [-2.16440e-02,  9.99478e-01,  2.40000e-02]]))"
      ]
     },
     "execution_count": 114,
     "metadata": {},
     "output_type": "execute_result"
    }
   ],
   "source": [
    "s_t, np.vstack([s_t[:2,:], s_t[3:,:]])"
   ]
  },
  {
   "cell_type": "code",
   "execution_count": 135,
   "metadata": {},
   "outputs": [
    {
     "data": {
      "text/plain": [
       "[0.5451220856425634,\n",
       " -0.4286602420290858,\n",
       " -0.4967104439763744,\n",
       " -0.5218917928968233]"
      ]
     },
     "execution_count": 135,
     "metadata": {},
     "output_type": "execute_result"
    }
   ],
   "source": [
    "new_q_t = Quaternion.from_matrix(r_t)\n",
    "new_q_comps_t = [new_q_t.w, new_q_t.x, new_q_t.y, new_q_t.z]\n",
    "new_q_comps_t"
   ]
  },
  {
   "cell_type": "code",
   "execution_count": 136,
   "metadata": {},
   "outputs": [
    {
     "data": {
      "text/plain": [
       "'0.5451220856425634, -0.4286602420290858, -0.4967104439763744, -0.5218917928968233'"
      ]
     },
     "execution_count": 136,
     "metadata": {},
     "output_type": "execute_result"
    }
   ],
   "source": [
    "\", \".join([str(x) for x in new_q_comps_t])"
   ]
  },
  {
   "cell_type": "code",
   "execution_count": 162,
   "metadata": {},
   "outputs": [
    {
     "data": {
      "text/plain": [
       "['__add__',\n",
       " '__class__',\n",
       " '__delattr__',\n",
       " '__dict__',\n",
       " '__dir__',\n",
       " '__div__',\n",
       " '__doc__',\n",
       " '__eq__',\n",
       " '__format__',\n",
       " '__ge__',\n",
       " '__getattribute__',\n",
       " '__gt__',\n",
       " '__hash__',\n",
       " '__init__',\n",
       " '__init_subclass__',\n",
       " '__le__',\n",
       " '__lt__',\n",
       " '__module__',\n",
       " '__mul__',\n",
       " '__ne__',\n",
       " '__neg__',\n",
       " '__new__',\n",
       " '__nonzero__',\n",
       " '__reduce__',\n",
       " '__reduce_ex__',\n",
       " '__repr__',\n",
       " '__setattr__',\n",
       " '__sizeof__',\n",
       " '__str__',\n",
       " '__sub__',\n",
       " '__subclasshook__',\n",
       " '__truediv__',\n",
       " '__weakref__',\n",
       " 'almost_equal',\n",
       " 'average',\n",
       " 'conjugate',\n",
       " 'distance',\n",
       " 'dot',\n",
       " 'from_axis_angle',\n",
       " 'from_euler',\n",
       " 'from_matrix',\n",
       " 'from_quaternion',\n",
       " 'from_rotation_vector',\n",
       " 'from_translation',\n",
       " 'get_euler',\n",
       " 'get_rotation_matrix',\n",
       " 'get_rotation_vector',\n",
       " 'get_xyz_vector',\n",
       " 'inverse',\n",
       " 'norm',\n",
       " 'unit',\n",
       " 'vector_average']"
      ]
     },
     "execution_count": 162,
     "metadata": {},
     "output_type": "execute_result"
    }
   ],
   "source": [
    "dir(Quaternion)"
   ]
  },
  {
   "cell_type": "code",
   "execution_count": 141,
   "metadata": {},
   "outputs": [],
   "source": [
    "def quat_comps(q_in):\n",
    "    return [q_in.w, q_in.x, q_in.y, q_in.z]"
   ]
  },
  {
   "cell_type": "code",
   "execution_count": 164,
   "metadata": {},
   "outputs": [
    {
     "data": {
      "text/plain": [
       "([0.9962052789661168,\n",
       "  0.04596612803638528,\n",
       "  0.07031112009818027,\n",
       "  -0.022770674647963618],\n",
       " 1.0)"
      ]
     },
     "execution_count": 164,
     "metadata": {},
     "output_type": "execute_result"
    }
   ],
   "source": [
    "wild_guess = Quaternion(0.5,0.5,0.5,0.5) * new_q\n",
    "quat_comps(wild_guess), wild_guess.norm()"
   ]
  },
  {
   "cell_type": "code",
   "execution_count": 144,
   "metadata": {},
   "outputs": [
    {
     "data": {
      "text/plain": [
       "'0.9962052789661168, 0.04596612803638528, 0.07031112009818027, -0.022770674647963618'"
      ]
     },
     "execution_count": 144,
     "metadata": {},
     "output_type": "execute_result"
    }
   ],
   "source": [
    "\", \".join([str(x) for x in quat_comps(wild_guess)])"
   ]
  },
  {
   "cell_type": "code",
   "execution_count": 171,
   "metadata": {},
   "outputs": [],
   "source": [
    "def err_calc(q_in):\n",
    "    q = q_in/q_in.norm()\n",
    "    m = q.get_rotation_matrix()\n",
    "    e_mat = samp_map - np.dot(match_map, rot)\n",
    "    return np.sum(e_mat * e_mat)"
   ]
  },
  {
   "cell_type": "code",
   "execution_count": 172,
   "metadata": {},
   "outputs": [
    {
     "data": {
      "text/plain": [
       "0.000349032138766286"
      ]
     },
     "execution_count": 172,
     "metadata": {},
     "output_type": "execute_result"
    }
   ],
   "source": [
    "err_calc(q)"
   ]
  },
  {
   "cell_type": "code",
   "execution_count": 177,
   "metadata": {},
   "outputs": [
    {
     "data": {
      "text/plain": [
       "(0.000349032138766286,\n",
       " <quaternions.quaternion.Quaternion at 0x7fd376f70358>,\n",
       " 0.09331869350937039)"
      ]
     },
     "execution_count": 177,
     "metadata": {},
     "output_type": "execute_result"
    }
   ],
   "source": [
    "err_calc(new_q), new_q.unit(), np.random.random() * 0.1"
   ]
  },
  {
   "cell_type": "code",
   "execution_count": 181,
   "metadata": {},
   "outputs": [
    {
     "name": "stdout",
     "output_type": "stream",
     "text": [
      "On iter 0\n",
      "On iter 1000\n",
      "On iter 2000\n",
      "On iter 3000\n",
      "On iter 4000\n",
      "On iter 5000\n",
      "On iter 6000\n",
      "On iter 7000\n",
      "On iter 8000\n",
      "On iter 9000\n"
     ]
    }
   ],
   "source": [
    "curr = new_q.unit()\n",
    "from random import randrange\n",
    "best_err = err_calc(curr)\n",
    "for i in range(10000):\n",
    "    stepsize = (np.random.random() - 0.5) * 1.0e-5\n",
    "    axis = randrange(3)\n",
    "    if i % 1000 == 0:\n",
    "        print(\"On iter \" + str(i))\n",
    "    tmp = curr.unit()\n",
    "    if axis == 0:\n",
    "        tmp.x += stepsize\n",
    "    elif axis == 1:\n",
    "        tmp.y += stepsize\n",
    "    else:\n",
    "        tmp.z += stepsize\n",
    "    tmp = tmp.unit()\n",
    "    if err_calc(tmp) < best_err:\n",
    "        best_err = err_calc(tmp)\n",
    "        curr = tmp.unit()\n",
    "        print(\"iter\" + str(i) + \"Err is now \" + str(best_err) + \", q is \" + str(quat_comps(curr)))"
   ]
  },
  {
   "cell_type": "code",
   "execution_count": null,
   "metadata": {},
   "outputs": [],
   "source": []
  }
 ],
 "metadata": {
  "kernelspec": {
   "display_name": "Python 3",
   "language": "python",
   "name": "python3"
  },
  "language_info": {
   "codemirror_mode": {
    "name": "ipython",
    "version": 3
   },
   "file_extension": ".py",
   "mimetype": "text/x-python",
   "name": "python",
   "nbconvert_exporter": "python",
   "pygments_lexer": "ipython3",
   "version": "3.6.9"
  }
 },
 "nbformat": 4,
 "nbformat_minor": 4
}
