{
 "cells": [
  {
   "cell_type": "code",
   "execution_count": 1,
   "metadata": {},
   "outputs": [],
   "source": [
    "import numpy as np\n",
    "from matplotlib import pyplot as plt"
   ]
  },
  {
   "cell_type": "code",
   "execution_count": 2,
   "metadata": {},
   "outputs": [],
   "source": [
    "#  2457 and 7372\n",
    "\n",
    "def turns_to_pwm(turns):\n",
    "    return 2457 + (7372 - 2457) * 2.0 * turns\n",
    "\n",
    "def pwm_to_turns(pwm):\n",
    "    half_turns = (pwm - 2457)/(7372 - 2457)\n",
    "    return 0.5 * half_turns\n",
    "\n",
    "def deg_to_pwm(deg):\n",
    "    return turns_to_pwm(deg/360.0)\n",
    "\n",
    "def rad_to_pwm(rad):\n",
    "    return turns_to_pwm(0.5 * rad / np.pi)\n",
    "\n",
    "def pwm_to_rad(pwm):\n",
    "    return 2.0 * np.pi * pwm_to_turns(pwm)"
   ]
  },
  {
   "cell_type": "code",
   "execution_count": 3,
   "metadata": {},
   "outputs": [],
   "source": [
    "def parse_sol(sol_file):\n",
    "    from os import path\n",
    "    t = []\n",
    "    a1 = []\n",
    "    a2 = []\n",
    "    f_in = None\n",
    "    try:\n",
    "        f_in = open(sol_file, \"r\")\n",
    "    except:\n",
    "        f_in = open(path.join(\"examples\", sol_file), \"r\")\n",
    "    for line in f_in:\n",
    "        try:\n",
    "            els = [float(x) for x in line.strip().split(\",\")]\n",
    "            t.append(els[0])\n",
    "            a1.append(pwm_to_rad(els[1]))\n",
    "            a2.append(pwm_to_rad(els[2]))\n",
    "        except:\n",
    "            print(\"Trouble handling string \\\"\" + line + \"\\\"\")\n",
    "    f_in.close()\n",
    "    t = [x - t[0] for x in t]\n",
    "    return (t, a1, a2)"
   ]
  },
  {
   "cell_type": "code",
   "execution_count": 4,
   "metadata": {},
   "outputs": [],
   "source": [
    "def plot_sol(sol_file):\n",
    "    (t, a1, a2) = parse_sol(sol_file)\n",
    "    plt.plot(t, a1, 'b-')\n",
    "    plt.plot(t, a2, 'r-')"
   ]
  },
  {
   "cell_type": "code",
   "execution_count": 5,
   "metadata": {},
   "outputs": [
    {
     "name": "stdout",
     "output_type": "stream",
     "text": [
      "Trouble handling string \"\n",
      "\"\n",
      "Trouble handling string \"\n",
      "\"\n"
     ]
    },
    {
     "data": {
      "image/png": "[encoded data removed]",
      "text/plain": [
       "<Figure size 432x288 with 1 Axes>"
      ]
     },
     "metadata": {
      "needs_background": "light"
     },
     "output_type": "display_data"
    }
   ],
   "source": [
    "plot_sol('solution0.txt')"
   ]
  },
  {
   "cell_type": "code",
   "execution_count": 12,
   "metadata": {},
   "outputs": [],
   "source": [
    "def sky_plane_plot(sol_file, color=None):\n",
    "    (t1, a1, a2) = parse_sol(sol_file)\n",
    "    n = len(a1)\n",
    "    ys = [np.cos(a1[i])*np.cos(a2[i])/np.sin(a2[i]) for i in range(n)] # ys are north\n",
    "    xs = [np.sin(a1[i])*np.cos(a2[i])/np.sin(a2[i]) for i in range(n)] # xs are east\n",
    "    zs = [1.0 for i in range(n)]\n",
    "    plt.plot(xs, ys, color or 'k.')"
   ]
  },
  {
   "cell_type": "code",
   "execution_count": 21,
   "metadata": {},
   "outputs": [],
   "source": [
    "def sky_hemi_plot(sol_file, color=None, scale_az_by = 1.0):\n",
    "    (t1, a1, a2) = parse_sol(sol_file)\n",
    "    n = len(a1)\n",
    "    ys = [np.cos(a1[i] * scale_az_by)*np.cos(a2[i]) for i in range(n)] # ys are north\n",
    "    xs = [np.sin(a1[i] * scale_az_by)*np.cos(a2[i]) for i in range(n)] # xs are east\n",
    "    zs = [1.0 for i in range(n)]\n",
    "    plt.plot(xs, ys, color or 'k.')"
   ]
  },
  {
   "cell_type": "code",
   "execution_count": 18,
   "metadata": {},
   "outputs": [
    {
     "name": "stdout",
     "output_type": "stream",
     "text": [
      "Trouble handling string \"\n",
      "\"\n",
      "Trouble handling string \"\n",
      "\"\n"
     ]
    },
    {
     "data": {
      "image/png": "[encoded data removed]",
      "text/plain": [
       "<Figure size 432x288 with 1 Axes>"
      ]
     },
     "metadata": {
      "needs_background": "light"
     },
     "output_type": "display_data"
    }
   ],
   "source": [
    "sky_plane_plot(\"solution0.txt\")"
   ]
  },
  {
   "cell_type": "code",
   "execution_count": 19,
   "metadata": {},
   "outputs": [
    {
     "name": "stdout",
     "output_type": "stream",
     "text": [
      "Trouble handling string \"\n",
      "\"\n",
      "Trouble handling string \"\n",
      "\"\n",
      "Trouble handling string \"\n",
      "\"\n",
      "Trouble handling string \"\n",
      "\"\n",
      "Trouble handling string \"\n",
      "\"\n",
      "Trouble handling string \"\n",
      "\"\n",
      "Trouble handling string \"\n",
      "\"\n",
      "Trouble handling string \"\n",
      "\"\n"
     ]
    },
    {
     "data": {
      "image/png": "[encoded data removed]",
      "text/plain": [
       "<Figure size 432x288 with 1 Axes>"
      ]
     },
     "metadata": {
      "needs_background": "light"
     },
     "output_type": "display_data"
    }
   ],
   "source": [
    "for i in range(4):\n",
    "    sky_plane_plot(\"solution\" + str(i) + \".txt\", color = \"krgb\"[i] + '-')"
   ]
  },
  {
   "cell_type": "code",
   "execution_count": 29,
   "metadata": {},
   "outputs": [
    {
     "name": "stdout",
     "output_type": "stream",
     "text": [
      "Trouble handling string \"\n",
      "\"\n",
      "Trouble handling string \"\n",
      "\"\n"
     ]
    },
    {
     "data": {
      "image/png": "[encoded data removed]",
      "text/plain": [
       "<Figure size 432x288 with 1 Axes>"
      ]
     },
     "metadata": {
      "needs_background": "light"
     },
     "output_type": "display_data"
    }
   ],
   "source": [
    "sky_hemi_plot(\"solution0.txt\", 'b+')\n",
    "sky_hemi_plot(\"check_against_sol0.txt\", 'r-')"
   ]
  },
  {
   "cell_type": "code",
   "execution_count": null,
   "metadata": {},
   "outputs": [],
   "source": []
  }
 ],
 "metadata": {
  "kernelspec": {
   "display_name": "Python 3",
   "language": "python",
   "name": "python3"
  },
  "language_info": {
   "codemirror_mode": {
    "name": "ipython",
    "version": 3
   },
   "file_extension": ".py",
   "mimetype": "text/x-python",
   "name": "python",
   "nbconvert_exporter": "python",
   "pygments_lexer": "ipython3",
   "version": "3.6.9"
  }
 },
 "nbformat": 4,
 "nbformat_minor": 4
}
